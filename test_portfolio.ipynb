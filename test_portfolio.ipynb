{
 "cells": [
  {
   "cell_type": "code",
   "execution_count": 10,
   "source": [
    "import random\n",
    "from requests.exceptions import ConnectionError, Timeout, TooManyRedirects\n",
    "from requests import Request, Session"
   ],
   "outputs": [],
   "metadata": {}
  },
  {
   "cell_type": "code",
   "execution_count": 11,
   "source": [
    "class Portfolio:\n",
    "    def __init__(self, cash, stocks={},):\n",
    "        self.stocks = stocks\n",
    "        self.cash = cash\n",
    "        self.url = 'https://pro-api.coinmarketcap.com'\n",
    "        self.api_key = '06b26ee1-737d-48ad-bd50-b9a770e1fc6e'\n",
    "        self.headers = {\n",
    "            'Accepts': 'application/json',\n",
    "            'X-CMC_PRO_API_KEY': self.api_key,\n",
    "        }\n",
    "        self.session = Session()\n",
    "        self.session.headers.update(self.headers)\n",
    "\n",
    "    def total_value(self):\n",
    "        total = 0\n",
    "        for stock in self.stocks:\n",
    "            total += stock.get_value()\n",
    "        return total\n",
    "\n",
    "    def buy_stock(self, stock):\n",
    "        self.cash -= stock.get_value()\n",
    "        self.stocks[stock.symbol] = stock\n",
    "        print(f\"Bought {stock.shares} of {stock.symbol} @ {stock.price}\")\n",
    "    \n",
    "    def sell_random_stock(self):\n",
    "        '''\n",
    "        Sells a random stock that is currently owned by first getting the new value of all stocks then selling the stock to be sold. \n",
    "        '''\n",
    "        self.update_stock_info()\n",
    "        stock = random.choice(self.stocks)\n",
    "        print(f\"Sold {stock.shares} of {stock.symbol} @ {stock.price}\")\n",
    "        self.cash += stock.get_value()\n",
    "        del self.stocks[stock.symbol]\n",
    "\n",
    "    def update_stock_info(self):\n",
    "        '''\n",
    "        Updates the price of all stocks owned in the portfolio.        \n",
    "        '''\n",
    "        cryptos_to_update = \"\"\n",
    "        for stock in self.stocks:\n",
    "            cryptos_to_update += stock.symbol + \",\"\n",
    "        response = None\n",
    "        parameters = {\n",
    "            'symbol': cryptos_to_update,\n",
    "            'convert': 'USD'\n",
    "        }\n",
    "        try: \n",
    "            response = self.session.get(self.url + '/v1/cryptocurrency/quotes/latest', params=parameters)\n",
    "            results = response.json()\n",
    "            for stock in self.stocks:\n",
    "                for result in results['data']:\n",
    "                    if result['symbol'] == stock.symbol:\n",
    "                        stock.price = result['quote']['USD']['price']\n",
    "            print(self)\n",
    "        except (ConnectionError, TimeoutError, TooManyRedirects) as e:\n",
    "            print(e)\n",
    "        \n",
    "    \n",
    "    def __str__(self):\n",
    "        return str(f\"{len(self.stocks)} coins owned with a total value of {self.total_value()} with ${self.cash} cash on hand.\")"
   ],
   "outputs": [],
   "metadata": {}
  },
  {
   "cell_type": "code",
   "execution_count": 12,
   "source": [
    "class Stock:\n",
    "    def __init__(self, symbol, shares, price):\n",
    "        self.symbol = symbol\n",
    "        self.shares = shares\n",
    "        self.price = price\n",
    "    \n",
    "    def get_value(self,):\n",
    "        return self.shares * self.price\n"
   ],
   "outputs": [],
   "metadata": {}
  },
  {
   "cell_type": "code",
   "execution_count": null,
   "source": [],
   "outputs": [],
   "metadata": {}
  }
 ],
 "metadata": {
  "orig_nbformat": 4,
  "language_info": {
   "name": "python",
   "version": "3.8.8",
   "mimetype": "text/x-python",
   "codemirror_mode": {
    "name": "ipython",
    "version": 3
   },
   "pygments_lexer": "ipython3",
   "nbconvert_exporter": "python",
   "file_extension": ".py"
  },
  "kernelspec": {
   "name": "python3",
   "display_name": "Python 3.8.8 64-bit ('crypto-prediction': conda)"
  },
  "interpreter": {
   "hash": "7c0b8d5038748a2ca37e42d8a51261deffecc53b81ad37ba4decf90b42fdb990"
  }
 },
 "nbformat": 4,
 "nbformat_minor": 2
}